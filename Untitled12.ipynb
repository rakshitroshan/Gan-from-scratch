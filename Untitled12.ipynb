{
  "nbformat": 4,
  "nbformat_minor": 0,
  "metadata": {
    "colab": {
      "provenance": [],
      "gpuType": "T4",
      "authorship_tag": "ABX9TyOCeTgLUB/vkL/Uj+Iwz14b",
      "include_colab_link": true
    },
    "kernelspec": {
      "name": "python3",
      "display_name": "Python 3"
    },
    "language_info": {
      "name": "python"
    },
    "accelerator": "GPU"
  },
  "cells": [
    {
      "cell_type": "markdown",
      "metadata": {
        "id": "view-in-github",
        "colab_type": "text"
      },
      "source": [
        "<a href=\"https://colab.research.google.com/github/rakshitroshan/Gan-from-scratch/blob/master/Untitled12.ipynb\" target=\"_parent\"><img src=\"https://colab.research.google.com/assets/colab-badge.svg\" alt=\"Open In Colab\"/></a>"
      ]
    },
    {
      "cell_type": "code",
      "execution_count": 1,
      "metadata": {
        "id": "9weI3xA0S3Gs"
      },
      "outputs": [],
      "source": [
        "import torch\n"
      ]
    },
    {
      "cell_type": "code",
      "source": [
        "from torch import nn"
      ],
      "metadata": {
        "id": "u5VI6dzkTPAg"
      },
      "execution_count": null,
      "outputs": []
    },
    {
      "cell_type": "code",
      "source": [
        "from torchvision.models import vgg19"
      ],
      "metadata": {
        "id": "uch7lIB9hUc2"
      },
      "execution_count": null,
      "outputs": []
    },
    {
      "cell_type": "code",
      "source": [
        "class Conv1(nn.Module):\n",
        "\n",
        "  def __init__(\n",
        "      self,\n",
        "      incom,\n",
        "      output,\n",
        "      discriminator=False,\n",
        "      use_act=True,\n",
        "      use_bn=True,\n",
        "      **kwargs,\n",
        "  ):\n",
        "      super().__init__()\n",
        "      self.use_act=use_act\n",
        "      self.cnn=nn.Conv2d(incom,output,**kwargs,bias=not use_bn)\n",
        "      self.bn=nn.BatchNorm2d(output) if use_bn else nn.Identity()\n",
        "      self.act=(\n",
        "          nn.LeakyReLU(0.2,inplace=True)\n",
        "          if discriminator\n",
        "          else nn.PReLU(num_parameters=output)\n",
        "      )\n",
        "  def forward(self,x):\n",
        "    return self.act(self.bn(self.cnn(x))) if self.use_act else self.bn(self.cnn(x))\n",
        "\n"
      ],
      "metadata": {
        "id": "ThE5Gi-cTSSP"
      },
      "execution_count": null,
      "outputs": []
    },
    {
      "cell_type": "code",
      "source": [
        "class Upsample(nn.Module):\n",
        "  def __init__(self,inc,scale):\n",
        "    super().__init__()\n",
        "    self.conv=nn.Conv2d(inc,inc*scale**2,3,1,1)\n",
        "    self.ps=nn.PixelShuffle(scale)\n",
        "    self.act=nn.PReLU(num_parameters=inc)\n",
        "  def forward(self,x):\n",
        "    return self.act(self.ps(self.conv(x)))\n"
      ],
      "metadata": {
        "id": "66LEk4mhV_j3"
      },
      "execution_count": null,
      "outputs": []
    },
    {
      "cell_type": "code",
      "source": [
        "class Residualblock(nn.Module):\n",
        "  def __init__(self,incom):\n",
        "    super().__init__()\n",
        "    self.block1=Conv1(\n",
        "        incom,\n",
        "        incom,\n",
        "        kernel_size=3,\n",
        "        stride=1,\n",
        "        padding=1\n",
        "    )\n",
        "    self.block2=Conv1(\n",
        "        incom,\n",
        "        incom,\n",
        "        kernel_size=3,\n",
        "        stride=1,\n",
        "        padding=1,\n",
        "        use_act=False\n",
        "    )\n",
        "  def forward(self,x):\n",
        "    out=self.block1(x)\n",
        "    out=self.block2(out)\n",
        "    return out + x"
      ],
      "metadata": {
        "id": "aVv0PY4qXmm_"
      },
      "execution_count": null,
      "outputs": []
    },
    {
      "cell_type": "code",
      "source": [
        "class Generator(nn.Module):\n",
        "  def __init__(self,incom=16,num_channels=64,num_blocks=16):\n",
        "    super().__init__()\n",
        "    self.initial = Conv1(incom,num_channels,kernel_size=9,stride=1,padding=4,use_bn=False)\n",
        "    self.residuals=nn.Sequential(*[Residualblock(num_channels) for _ in range(num_blocks)])\n",
        "    self.convblock=Conv1(num_channels,kernel_size=3,stride=1,padding=1,use_act=False)\n",
        "    self.upsamples=nn.Sequential(Upsample(num_channels,2),Upsample(num_channels,2))\n",
        "    self.final=nn.Conv2d(num_channels,incom,kernel_size=9,stride=1,padding=4)\n",
        "  def forward(self,x):\n",
        "    initial=self.initial(x)\n",
        "    x=self.residuals(initial)\n",
        "    x=self.convblock(x)+initial\n",
        "    x=self.upsamples(x)\n",
        "    return torch.tanh(self.final(x))\n"
      ],
      "metadata": {
        "id": "rqZHNpLxaEdu"
      },
      "execution_count": null,
      "outputs": []
    },
    {
      "cell_type": "code",
      "source": [
        "class Discriminator(nn.Module):\n",
        "  def __init__(self,incom=3,features=[64,64,128,128,256,256,512,512]):\n",
        "    super().__init__()\n",
        "    blocks=[]\n",
        "    for idx,feature in enumerate(features):\n",
        "      blocks.append(\n",
        "          Conv1(\n",
        "              incom,\n",
        "              kernel_size=3,\n",
        "              stride=1 + idx%2,\n",
        "              paddinf=1,\n",
        "              discriminator=True,\n",
        "              use_act=True,\n",
        "              use_bn=False if idx ==0 else True\n",
        "          )\n",
        "      )\n",
        "      incom=feature\n",
        "      self.blocks=nn.Sequential(*blocks)\n",
        "      self.classifier=nn.Sequential(\n",
        "          nn.AdaptiveAvgPool2d((6,6)),\n",
        "          nn.Flatten(),\n",
        "          nn.Linear(512*6*6,1024),\n",
        "          nn.LeakyReLU(0.2,inplace=True),\n",
        "          nn.Linear(1024,1)\n",
        "      )\n",
        "    def forward(self,x):\n",
        "      x=self.blocks(x)\n",
        "      return self.classifier(x)\n"
      ],
      "metadata": {
        "id": "AVups2WGeIBC"
      },
      "execution_count": null,
      "outputs": []
    },
    {
      "cell_type": "markdown",
      "source": [],
      "metadata": {
        "id": "XWLpa-F1hg4E"
      }
    }
  ]
}